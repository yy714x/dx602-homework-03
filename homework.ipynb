{
  "cells": [
    {
      "cell_type": "markdown",
      "metadata": {
        "id": "cQjA5l-aQO1a"
      },
      "source": [
        "# DX 602 Week 3 Homework\n",
        "\n"
      ]
    },
    {
      "cell_type": "markdown",
      "metadata": {
        "id": "426pIj7sCauy"
      },
      "source": [
        "## Introduction\n",
        "\n",
        "Practice is a large part of becoming fluent in a programming language.\n",
        "In this module, you will be assigned regular coding homework to practice Python.\n",
        "If these problems seem too easy to you, try to answer them faster, and make sure to check the auto-grader feedback to confirm the correctness of your answers.\n",
        "Like with spoken languages, fluency (speed) is highly correlated with proficiency.\n",
        "But it is important to answer the problems correctly first, then quickly.\n"
      ]
    },
    {
      "cell_type": "markdown",
      "metadata": {
        "id": "JMMX812EfHcI"
      },
      "source": [
        "## Instructions\n",
        "\n",
        "You should replace every instance of \"...\" below.\n",
        "These are where you are expected to write code to answer each problem.\n",
        "\n",
        "After some of the problems, there are extra code cells that will test functions that you wrote so you can quickly see how they run on an example.\n",
        "If your code works on these examples, it is more likely to be correct.\n",
        "However, the autograder will test different examples, so working correctly on these examples does not guarantee full credit for the problem.\n",
        "You may change the example inputs to further test your functions on your own.\n",
        "You may also add your own example inputs for problems where we did not provide any.\n",
        "\n",
        "Be sure to run each code block after you edit it to make sure it runs as expected.\n",
        "When you are done, we strongly recommend you run all the code from scratch (Runtime menu -> Restart and Run all) to make sure your current code works for all problems.\n",
        "\n",
        "If your code raises an exception when run from scratch, it will  interfere with the auto-grader process causing you to lose some or all points for this homework.\n",
        "Please ask for help in YellowDig or schedule an appointment with a learning facilitator if you get stuck.\n"
      ]
    },
    {
      "cell_type": "markdown",
      "metadata": {
        "id": "7EmhdQLqCdxV"
      },
      "source": [
        "### Submission\n",
        "\n",
        "To submit your homework, take the following steps.\n",
        "\n",
        "1. Save and commit this notebook.\n",
        "2. Push your changes to GitHub.\n",
        "3. Confirm that your changes are visible in GitHub.\n",
        "4. Delete the codespace to avoid wasting your free quota.\n",
        "\n",
        "The auto-grading process usually completes within a few minutes of pushing to GitHub, but occasionally can take several minutes to an hour.\n",
        "If you submit your homework early enough, you may review the auto-grading results and fix any mistakes before the deadline.\n"
      ]
    },
    {
      "cell_type": "markdown",
      "metadata": {
        "id": "RDf9OknvCjF8"
      },
      "source": [
        "## Problems"
      ]
    },
    {
      "cell_type": "markdown",
      "metadata": {
        "id": "IZ0W-QBMnLBV"
      },
      "source": [
        "### Problem 1\n",
        "\n",
        "Write a function `p1` that takes in a sequence and returns a list of the values that are not `None`."
      ]
    },
    {
      "cell_type": "code",
      "execution_count": 1,
      "metadata": {
        "id": "teDxcSlJnS34"
      },
      "outputs": [],
      "source": [
        "# YOUR CHANGES HERE\n",
        "\n",
        "def p1(seq):\n",
        "    return [x for x in seq if x is not None]"
      ]
    },
    {
      "cell_type": "markdown",
      "metadata": {
        "id": "FaLIUkOXqH0M"
      },
      "source": [
        "Test `p1` yourself with this example.\n",
        "Feel free to change the input to further test your function.\n",
        "\n"
      ]
    },
    {
      "cell_type": "code",
      "execution_count": 2,
      "metadata": {
        "id": "1jZXBLhmns--"
      },
      "outputs": [
        {
          "data": {
            "text/plain": [
              "[0, 1, 2, 4, 'a', 'b']"
            ]
          },
          "execution_count": 2,
          "metadata": {},
          "output_type": "execute_result"
        }
      ],
      "source": [
        "p1([0, 1, 2, None, 4, \"a\", \"b\"])"
      ]
    },
    {
      "cell_type": "markdown",
      "metadata": {
        "id": "t9nQxQ06nVCI"
      },
      "source": [
        "### Problem 2\n",
        "\n",
        "Write a function `p2` that takes in a sequence and returns a list of the values that are considered true by Python."
      ]
    },
    {
      "cell_type": "code",
      "execution_count": 3,
      "metadata": {
        "id": "90vL5z5XnigG"
      },
      "outputs": [],
      "source": [
        "# YOUR CHANGES HERE\n",
        "\n",
        "def p2(seq):\n",
        "    return [x for x in seq if x]"
      ]
    },
    {
      "cell_type": "markdown",
      "metadata": {
        "id": "TfQqbBupp7WC"
      },
      "source": [
        "Test `p2` yourself with this example.\n",
        "Feel free to change the input to further test your function.\n",
        "\n"
      ]
    },
    {
      "cell_type": "code",
      "execution_count": 4,
      "metadata": {
        "id": "yCOW3O09oHV5"
      },
      "outputs": [
        {
          "data": {
            "text/plain": [
              "[1, 2, 4, 'a', 'b', True]"
            ]
          },
          "execution_count": 4,
          "metadata": {},
          "output_type": "execute_result"
        }
      ],
      "source": [
        "p2([0, 1, 2, None, 4, \"a\", \"b\", False, True])"
      ]
    },
    {
      "cell_type": "markdown",
      "metadata": {
        "id": "9UcDWOzDnpi3"
      },
      "source": [
        "### Problem 3\n",
        "\n",
        "Write a function `p3` that takes in a sequence, and returns a list of the values that are both not `None` and considered false by Python."
      ]
    },
    {
      "cell_type": "code",
      "execution_count": 5,
      "metadata": {
        "id": "xTB_tXMTobVs"
      },
      "outputs": [],
      "source": [
        "# YOUR CHANGES HERE\n",
        "\n",
        "def p3(seq):\n",
        "    return [x for x in seq if x is not None and not x]"
      ]
    },
    {
      "cell_type": "markdown",
      "metadata": {
        "id": "TneAPd0Bpxmy"
      },
      "source": [
        "Test `p3` yourself with this example.\n",
        "Feel free to change the input to further test your function."
      ]
    },
    {
      "cell_type": "code",
      "execution_count": 6,
      "metadata": {
        "id": "tWHqPjrXofNi"
      },
      "outputs": [
        {
          "data": {
            "text/plain": [
              "[0, False]"
            ]
          },
          "execution_count": 6,
          "metadata": {},
          "output_type": "execute_result"
        }
      ],
      "source": [
        "p3([0, 1, 2, None, 4, \"a\", \"b\", False, True])"
      ]
    },
    {
      "cell_type": "markdown",
      "metadata": {
        "id": "_2YZZEOSCliv"
      },
      "source": [
        "### Problem 4\n",
        "\n",
        "Write a function `p4` that takes in input $n$ and returns the sum from zero through $n-1$ (inclusive).\n",
        "There is a closed form solution to these sums, but please calculate the sum directly."
      ]
    },
    {
      "cell_type": "code",
      "execution_count": 7,
      "metadata": {
        "id": "Mhy3u6QKDBWJ"
      },
      "outputs": [],
      "source": [
        "# YOUR CHANGES HERE\n",
        "\n",
        "def p4(n):\n",
        "    return sum(range(n))"
      ]
    },
    {
      "cell_type": "markdown",
      "metadata": {
        "id": "cIa4pQTKo9Zt"
      },
      "source": [
        "Test your code with the following examples.\n",
        "Feel free to change the inputs to further test your function."
      ]
    },
    {
      "cell_type": "code",
      "execution_count": 8,
      "metadata": {
        "id": "xAHEoxzuoqyO"
      },
      "outputs": [
        {
          "data": {
            "text/plain": [
              "0"
            ]
          },
          "execution_count": 8,
          "metadata": {},
          "output_type": "execute_result"
        }
      ],
      "source": [
        "# p4(0) should be 0\n",
        "p4(0)"
      ]
    },
    {
      "cell_type": "code",
      "execution_count": 9,
      "metadata": {
        "id": "A-5b6g57osqv"
      },
      "outputs": [
        {
          "data": {
            "text/plain": [
              "0"
            ]
          },
          "execution_count": 9,
          "metadata": {},
          "output_type": "execute_result"
        }
      ],
      "source": [
        "# p4(1) should also be 0\n",
        "p4(1)"
      ]
    },
    {
      "cell_type": "code",
      "execution_count": 10,
      "metadata": {
        "id": "m9TS13UsotoN"
      },
      "outputs": [
        {
          "data": {
            "text/plain": [
              "1"
            ]
          },
          "execution_count": 10,
          "metadata": {},
          "output_type": "execute_result"
        }
      ],
      "source": [
        "# p4(2) should be 0+1=1\n",
        "p4(2)"
      ]
    },
    {
      "cell_type": "code",
      "execution_count": 11,
      "metadata": {
        "id": "-uoB3IAKoutu"
      },
      "outputs": [
        {
          "data": {
            "text/plain": [
              "45"
            ]
          },
          "execution_count": 11,
          "metadata": {},
          "output_type": "execute_result"
        }
      ],
      "source": [
        "# p4(10) should be 0+1+2+3+4+5+6+7+8+9=45\n",
        "p4(10)"
      ]
    },
    {
      "cell_type": "markdown",
      "metadata": {
        "id": "baTz4pVWDC9U"
      },
      "source": [
        "### Problem 5\n",
        "\n",
        "Write a function `p5` that takes in input $n$ and returns the sum for integer $k$ from zero through $n-1$ (inclusive) except when $k$ is a multiple of five."
      ]
    },
    {
      "cell_type": "code",
      "execution_count": 12,
      "metadata": {
        "id": "1-JbJbiNDPgN"
      },
      "outputs": [],
      "source": [
        "# YOUR CHANGES HERE\n",
        "\n",
        "def p5(n):\n",
        "    return sum(k for k in range(n) if k % 5 != 0)"
      ]
    },
    {
      "cell_type": "markdown",
      "metadata": {
        "id": "VB0OTXs1rjgP"
      },
      "source": [
        "Test your code with the following examples.\n",
        "Feel free to change the inputs to further test your function."
      ]
    },
    {
      "cell_type": "code",
      "execution_count": 13,
      "metadata": {
        "id": "-nZbMHZ7rkwo"
      },
      "outputs": [
        {
          "data": {
            "text/plain": [
              "0"
            ]
          },
          "execution_count": 13,
          "metadata": {},
          "output_type": "execute_result"
        }
      ],
      "source": [
        "# p5(0) should be 0\n",
        "p5(0)"
      ]
    },
    {
      "cell_type": "code",
      "execution_count": 14,
      "metadata": {
        "id": "8d-NwdpArqCI"
      },
      "outputs": [
        {
          "data": {
            "text/plain": [
              "10"
            ]
          },
          "execution_count": 14,
          "metadata": {},
          "output_type": "execute_result"
        }
      ],
      "source": [
        "# p5(6) should be 1+2+3+4=10 (note 5 skipped)\n",
        "p5(6)"
      ]
    },
    {
      "cell_type": "markdown",
      "metadata": {
        "id": "DHuDHuO6DUgr"
      },
      "source": [
        "### Problem 6\n",
        "\n",
        "Write a function `p6` that takes in a list of dictionaries, and returns the dictionary with the highest \"score\" key."
      ]
    },
    {
      "cell_type": "code",
      "execution_count": 15,
      "metadata": {
        "id": "uWTJJBu2Dapd"
      },
      "outputs": [],
      "source": [
        "# YOUR CHANGES HERE\n",
        "\n",
        "def p6(dictionaries):\n",
        "    return max(dictionaries, key=lambda d: d[\"score\"])"
      ]
    },
    {
      "cell_type": "markdown",
      "metadata": {
        "id": "c_Umxb6jsBCT"
      },
      "source": [
        "Test your code with the following example.\n",
        "Feel free to change the inputs to further test your function."
      ]
    },
    {
      "cell_type": "code",
      "execution_count": 16,
      "metadata": {
        "id": "6rvuO-6UsAo1"
      },
      "outputs": [
        {
          "data": {
            "text/plain": [
              "{'score': 13.1}"
            ]
          },
          "execution_count": 16,
          "metadata": {},
          "output_type": "execute_result"
        }
      ],
      "source": [
        "p6([{\"score\": 1},\n",
        "    {\"score\": 13.1},\n",
        "    {\"score\": 9}])"
      ]
    },
    {
      "cell_type": "markdown",
      "metadata": {
        "id": "PEhlpGyAmA6C"
      },
      "source": [
        "### Problem 7\n",
        "\n",
        "The list `p7` contains dictionaries with keys \"a\", \"b\", and \"c\".\n",
        "Sort `p7` by the value of the \"c\" key."
      ]
    },
    {
      "cell_type": "code",
      "execution_count": 17,
      "metadata": {
        "id": "3Sp5OQEImUN_"
      },
      "outputs": [],
      "source": [
        "# do not change this initialization\n",
        "p7 = [{\"a\": 1, \"b\": 52, \"c\": 513},\n",
        "      {\"a\": 2, \"b\": 52, \"c\": 123},\n",
        "      {\"a\": 3, \"b\": 52, \"c\": 999},\n",
        "      {\"a\": 4, \"b\": 52, \"c\": 456},\n",
        "      {\"a\": 5, \"b\": 52, \"c\": 321}]"
      ]
    },
    {
      "cell_type": "code",
      "execution_count": 18,
      "metadata": {
        "id": "Rle-GnKwmoFV"
      },
      "outputs": [],
      "source": [
        "# YOUR CHANGES HERE\n",
        "\n",
        "# sort p7 here\n",
        "p7.sort(key=lambda d: d[\"c\"])"
      ]
    },
    {
      "cell_type": "markdown",
      "metadata": {
        "id": "CfEmFg6WsZIM"
      },
      "source": [
        "Check the final value of `p7`."
      ]
    },
    {
      "cell_type": "code",
      "execution_count": 19,
      "metadata": {
        "id": "tbD9BaI5sdFW"
      },
      "outputs": [
        {
          "data": {
            "text/plain": [
              "[{'a': 2, 'b': 52, 'c': 123},\n",
              " {'a': 5, 'b': 52, 'c': 321},\n",
              " {'a': 4, 'b': 52, 'c': 456},\n",
              " {'a': 1, 'b': 52, 'c': 513},\n",
              " {'a': 3, 'b': 52, 'c': 999}]"
            ]
          },
          "execution_count": 19,
          "metadata": {},
          "output_type": "execute_result"
        }
      ],
      "source": [
        "p7"
      ]
    },
    {
      "cell_type": "markdown",
      "metadata": {
        "id": "ztO3mVOfksGg"
      },
      "source": [
        "### Problem 8\n",
        "\n",
        "Write a function `p8` that takes in a sequence of dictionaries and returns its contents in a list sorted by the \"score\" key.\n"
      ]
    },
    {
      "cell_type": "code",
      "execution_count": 20,
      "metadata": {
        "id": "YEq-hQMUlnLG"
      },
      "outputs": [],
      "source": [
        "# YOUR CHANGES HERE\n",
        "\n",
        "def p8(seq):\n",
        "    return sorted(seq, key=lambda d: d[\"score\"])"
      ]
    },
    {
      "cell_type": "markdown",
      "metadata": {
        "id": "y2caKDwasxaH"
      },
      "source": [
        "Test your code with the following examples.\n",
        "Feel free to change the inputs to further test your function."
      ]
    },
    {
      "cell_type": "code",
      "execution_count": 21,
      "metadata": {
        "id": "5nAyUIwsszXs"
      },
      "outputs": [
        {
          "data": {
            "text/plain": [
              "[]"
            ]
          },
          "execution_count": 21,
          "metadata": {},
          "output_type": "execute_result"
        }
      ],
      "source": [
        "p8([])"
      ]
    },
    {
      "cell_type": "code",
      "execution_count": 22,
      "metadata": {
        "id": "dR_hzfBas03e"
      },
      "outputs": [
        {
          "data": {
            "text/plain": [
              "[{'score': 1}, {'score': 3}]"
            ]
          },
          "execution_count": 22,
          "metadata": {},
          "output_type": "execute_result"
        }
      ],
      "source": [
        "p8([{\"score\": 3}, {\"score\": 1}])"
      ]
    },
    {
      "cell_type": "code",
      "execution_count": 23,
      "metadata": {
        "id": "jxiZMLsqs7X5"
      },
      "outputs": [
        {
          "data": {
            "text/plain": [
              "[{'score': 3}, {'score': 5}, {'score': 6}]"
            ]
          },
          "execution_count": 23,
          "metadata": {},
          "output_type": "execute_result"
        }
      ],
      "source": [
        "# this input sequence is a tuple, so it does not have a sort method.\n",
        "\n",
        "p8_tuple_example = ({\"score\": 5}, {\"score\": 6}, {\"score\": 3})\n",
        "\n",
        "p8(p8_tuple_example)"
      ]
    },
    {
      "cell_type": "markdown",
      "metadata": {
        "id": "GbYL7RlmDdgw"
      },
      "source": [
        "### Problem 9\n",
        "\n",
        "Write a function `p9` that takes in a list of dictionaries, and returns a list of the five dictionaries with the highest \"score\" key.\n",
        "If there are fewer than five dictionaries in the list, return a list with all of them.\n",
        "The list should be sorted with the highest scores first.\n"
      ]
    },
    {
      "cell_type": "code",
      "execution_count": 24,
      "metadata": {
        "id": "LCatOFAUDkhC"
      },
      "outputs": [],
      "source": [
        "# YOUR CHANGES HERE\n",
        "\n",
        "def p9(dictionaries):\n",
        "    return sorted(dictionaries, key=lambda d: d[\"score\"], reverse=True)[:5]\n"
      ]
    },
    {
      "cell_type": "markdown",
      "metadata": {
        "id": "K_xeypNTtpda"
      },
      "source": [
        "Test your code with the following examples.\n",
        "Feel free to change the inputs to further test your function."
      ]
    },
    {
      "cell_type": "code",
      "execution_count": 25,
      "metadata": {
        "id": "RQwDteRUuPtE"
      },
      "outputs": [
        {
          "data": {
            "text/plain": [
              "[{'score': 0},\n",
              " {'score': 1},\n",
              " {'score': 2},\n",
              " {'score': 3},\n",
              " {'score': 4},\n",
              " {'score': 5},\n",
              " {'score': 6},\n",
              " {'score': 7},\n",
              " {'score': 8},\n",
              " {'score': 9}]"
            ]
          },
          "execution_count": 25,
          "metadata": {},
          "output_type": "execute_result"
        }
      ],
      "source": [
        "p9_example_input = [{\"score\": i} for i in range(10)]\n",
        "p9_example_input"
      ]
    },
    {
      "cell_type": "code",
      "execution_count": 26,
      "metadata": {
        "id": "J6JWdCbpuie5"
      },
      "outputs": [
        {
          "data": {
            "text/plain": [
              "[{'score': 9}, {'score': 8}, {'score': 7}, {'score': 6}, {'score': 5}]"
            ]
          },
          "execution_count": 26,
          "metadata": {},
          "output_type": "execute_result"
        }
      ],
      "source": [
        "p9(p9_example_input)"
      ]
    },
    {
      "cell_type": "markdown",
      "metadata": {
        "id": "DU19eU4CDsfl"
      },
      "source": [
        "### Problem 10\n",
        "\n",
        "Write a function `p10` that takes in a list of dictionaries and a score function, and returns the dictionary with the highest output when passed to the score function."
      ]
    },
    {
      "cell_type": "code",
      "execution_count": 27,
      "metadata": {
        "id": "XpxH3dGWDux_"
      },
      "outputs": [],
      "source": [
        "# YOUR CHANGES HERE\n",
        "\n",
        "def p10(dictionaries, score_function):\n",
        "    return max(dictionaries, key=score_function)"
      ]
    },
    {
      "cell_type": "markdown",
      "metadata": {
        "id": "HW4vggmXuw1v"
      },
      "source": [
        "Test your code with the following examples.\n",
        "Feel free to change the inputs to further test your function."
      ]
    },
    {
      "cell_type": "code",
      "execution_count": 28,
      "metadata": {
        "id": "u_ZFPFEJ4AU1"
      },
      "outputs": [
        {
          "data": {
            "text/plain": [
              "{'score': 5}"
            ]
          },
          "execution_count": 28,
          "metadata": {},
          "output_type": "execute_result"
        }
      ],
      "source": [
        "p10([{\"score\": 3}, {\"score\": 5}], lambda r: r[\"score\"])"
      ]
    },
    {
      "cell_type": "code",
      "execution_count": 29,
      "metadata": {
        "id": "eJYKi6QE4HkR"
      },
      "outputs": [
        {
          "data": {
            "text/plain": [
              "{'a': 3}"
            ]
          },
          "execution_count": 29,
          "metadata": {},
          "output_type": "execute_result"
        }
      ],
      "source": [
        "# note this sorts by negative \"a\"\n",
        "p10([{\"a\": 5}, {\"a\": 3}], lambda r: -r[\"a\"])"
      ]
    },
    {
      "cell_type": "markdown",
      "metadata": {
        "id": "6BrPZnxLD0Oe"
      },
      "source": [
        "### Problem 11\n",
        "\n",
        "Write a function `p11` implementing the factorial function using `range()` and `math.prod`.\n",
        "Do not use `math.factorial` for this problem.\n"
      ]
    },
    {
      "cell_type": "code",
      "execution_count": 30,
      "metadata": {},
      "outputs": [],
      "source": [
        "# DO NOT CHANGE\n",
        "\n",
        "import math"
      ]
    },
    {
      "cell_type": "code",
      "execution_count": 31,
      "metadata": {
        "id": "xfw7S3gnEDg-"
      },
      "outputs": [],
      "source": [
        "# YOUR CHANGES HERE\n",
        "\n",
        "def p11(n):\n",
        "    return math.prod(range(1, n + 1))"
      ]
    },
    {
      "cell_type": "markdown",
      "metadata": {
        "id": "WUeDRHz1EI36"
      },
      "source": [
        "### Problem 12\n",
        "\n",
        "Write a function `p12` taking in a sequence of dictionaries and a column name (dictionary key), and returns the set of distinct values in that column (values for that dictionary key)."
      ]
    },
    {
      "cell_type": "code",
      "execution_count": 32,
      "metadata": {
        "id": "Msv-S8sqEWQn"
      },
      "outputs": [],
      "source": [
        "# YOUR CHANGES HERE\n",
        "\n",
        "def p12(dictionaries, key):\n",
        "    return {d[key] for d in dictionaries if key in d}"
      ]
    },
    {
      "cell_type": "markdown",
      "metadata": {
        "id": "_9fnH8_oEdbO"
      },
      "source": [
        "### Problem 13\n",
        "\n",
        "Write a function `p13` taking in a sequence of dictionaries and a column name (dictionary key), and returns the first dictionary in the sequence where that column is an empty string or `None`.\n",
        "If no such dictionary is in the sequence, return `None`.\n",
        "\n",
        "This function is essentially looking for the first row with missing data for that column.\n"
      ]
    },
    {
      "cell_type": "code",
      "execution_count": 33,
      "metadata": {
        "id": "yc26DedyE2JT"
      },
      "outputs": [],
      "source": [
        "# YOUR CHANGES HERE\n",
        "\n",
        "def p13(dictionaries, key):\n",
        "     for d in dictionaries:\n",
        "        if key in d and (d[key] == \"\" or d[key] is None):\n",
        "            return d\n",
        "        return None"
      ]
    },
    {
      "cell_type": "markdown",
      "metadata": {
        "id": "UfE3-jyH4b0c"
      },
      "source": [
        "### Problem 14\n",
        "\n",
        "In the following code, what value is printed out?\n",
        "Set `p14` to that value.\n",
        "\n",
        "```\n",
        "def f(x):\n",
        "    x = x * 3\n",
        "    return x\n",
        "\n",
        "def g(y):\n",
        "    f(y)\n",
        "    return y\n",
        "\n",
        "x = 4\n",
        "f(x)\n",
        "g(x)\n",
        "print(x)\n",
        "```\n"
      ]
    },
    {
      "cell_type": "code",
      "execution_count": 34,
      "metadata": {
        "id": "9mv3iK4NFL_d"
      },
      "outputs": [],
      "source": [
        "# YOUR CHANGES HERE\n",
        "\n",
        "p14 = 4"
      ]
    },
    {
      "cell_type": "markdown",
      "metadata": {
        "id": "zhBJbwqEFO2G"
      },
      "source": [
        "### Problem 15\n",
        "\n",
        "In the following code, what value is printed out?\n",
        "Set `p15` to that value.\n",
        "\n",
        "```\n",
        "def f(x):\n",
        "    def g(y):\n",
        "        def h(x):\n",
        "            return x + y\n",
        "\n",
        "        return h(x)\n",
        "\n",
        "    x = g(2)\n",
        "    return g(3)\n",
        "\n",
        "print(f(5))\n",
        "```\n"
      ]
    },
    {
      "cell_type": "code",
      "execution_count": 35,
      "metadata": {
        "id": "C9QHxIqiGHzX"
      },
      "outputs": [],
      "source": [
        "# YOUR CHANGES HERE\n",
        "\n",
        "p15 = 8"
      ]
    },
    {
      "cell_type": "markdown",
      "metadata": {
        "id": "bGZiPZazGI7u"
      },
      "source": [
        "### Problem 16\n",
        "\n",
        "Set `p16` to the number of lines printed out by the following code.\n",
        "Try to answer this without actually running the code.\n",
        "\n",
        "```\n",
        "d = {\"a\": \"b\", \"c\": 3, \"d\": 3}\n",
        "for k in d:\n",
        "    print(k, d[k])\n",
        "```"
      ]
    },
    {
      "cell_type": "code",
      "execution_count": 36,
      "metadata": {
        "id": "u1gwOF_uGL_2"
      },
      "outputs": [],
      "source": [
        "# YOUR CHANGES HERE\n",
        "\n",
        "p16 = 3"
      ]
    },
    {
      "cell_type": "markdown",
      "metadata": {
        "id": "fCMgnJgoGMwV"
      },
      "source": [
        "### Problem 17\n",
        "\n",
        "Set `p17` to the number of entries in the following set.\n",
        "Try to answer this without running any code.\n",
        "\n",
        "```\n",
        "{1, 1, 2, 2, 3, 3, 3, 3, 3, 4, 4, 4, 5}\n",
        "```"
      ]
    },
    {
      "cell_type": "code",
      "execution_count": 37,
      "metadata": {
        "id": "Z_jb-O9nGOJo"
      },
      "outputs": [],
      "source": [
        "# YOUR CHANGES HERE\n",
        "\n",
        "p17 = 5"
      ]
    },
    {
      "cell_type": "markdown",
      "metadata": {
        "id": "hQHBExBMGOxw"
      },
      "source": [
        "### Problem 18\n",
        "\n",
        "Write a function `p18` that takes in a list as input, and returns `True` if the length of the list is at least 18, and `False` otherwise."
      ]
    },
    {
      "cell_type": "code",
      "execution_count": 38,
      "metadata": {
        "id": "QrC_w0YGGQRZ"
      },
      "outputs": [],
      "source": [
        "# YOUR CHANGES HERE\n",
        "def p18(lst):\n",
        "    return len(lst) >= 18"
      ]
    },
    {
      "cell_type": "markdown",
      "metadata": {
        "id": "tdB9pO8MGRSa"
      },
      "source": [
        "### Problem 19\n",
        "\n",
        "Write a function `p19` that takes in a list as input and returns `True` if all the entries in the list are numbers between 0.5 and 0.75 and `False` otherwise."
      ]
    },
    {
      "cell_type": "code",
      "execution_count": 39,
      "metadata": {
        "id": "aQ7IcY3VGTac"
      },
      "outputs": [],
      "source": [
        "# YOUR CHANGES HERE\n",
        "\n",
        "def p19(lst):\n",
        "\treturn all(isinstance(x, (int, float)) and 0.5 < x < 0.75 for x in lst)"
      ]
    },
    {
      "cell_type": "markdown",
      "metadata": {
        "id": "yThSeipVGUSy"
      },
      "source": [
        "### Problem 20\n",
        "\n",
        "Set `p20` to the value of the variable `x` after the following code is run.\n",
        "Try to figure this out without running the code.\n",
        "\n",
        "```\n",
        "x = 7\n",
        "y = 4\n",
        "for z in range(y):\n",
        "    if z:\n",
        "        x = x * z\n",
        "```"
      ]
    },
    {
      "cell_type": "code",
      "execution_count": 40,
      "metadata": {
        "id": "vHmndpn0GWed"
      },
      "outputs": [],
      "source": [
        "# YOUR CHANGES HERE\n",
        "\n",
        "p20 = 252"
      ]
    }
  ],
  "metadata": {
    "colab": {
      "toc_visible": false
    },
    "kernelspec": {
      "display_name": "Python 3 (ipykernel)",
      "language": "python",
      "name": "python3"
    },
    "language_info": {
      "codemirror_mode": {
        "name": "ipython",
        "version": 3
      },
      "file_extension": ".py",
      "mimetype": "text/x-python",
      "name": "python",
      "nbconvert_exporter": "python",
      "pygments_lexer": "ipython3",
      "version": "3.12.1"
    }
  },
  "nbformat": 4,
  "nbformat_minor": 0
}
